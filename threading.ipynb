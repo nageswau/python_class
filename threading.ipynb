{
 "cells": [
  {
   "cell_type": "code",
   "execution_count": 1,
   "metadata": {},
   "outputs": [],
   "source": [
    "import threading"
   ]
  },
  {
   "cell_type": "code",
   "execution_count": 3,
   "metadata": {},
   "outputs": [],
   "source": [
    "import time\n",
    "def myfun(a):\n",
    "    for x in range(a):\n",
    "        print x\n",
    "        print \"myfun\"\n",
    "        time.sleep(5)\n",
    "def myfun1(a):\n",
    "    for x in range(a):\n",
    "        print x\n",
    "        print \"myfun1\"\n",
    "        time.sleep(5)"
   ]
  },
  {
   "cell_type": "code",
   "execution_count": 4,
   "metadata": {},
   "outputs": [
    {
     "name": "stdout",
     "output_type": "stream",
     "text": [
      "0\n",
      "myfun\n",
      "1\n",
      "myfun\n",
      "2\n",
      "myfun\n",
      "3\n",
      "myfun\n",
      "4\n",
      "myfun\n",
      "5\n",
      "myfun\n",
      "6\n",
      "myfun\n",
      "7\n",
      "myfun\n",
      "8\n",
      "myfun\n",
      "9\n",
      "myfun\n",
      "0\n",
      "myfun1\n",
      "1\n",
      "myfun1\n",
      "2\n",
      "myfun1\n",
      "3\n",
      "myfun1\n",
      "4\n",
      "myfun1\n",
      "5\n",
      "myfun1\n",
      "6\n",
      "myfun1\n",
      "7\n",
      "myfun1\n",
      "8\n",
      "myfun1\n",
      "9\n",
      "myfun1\n",
      "100.035000086\n"
     ]
    }
   ],
   "source": [
    "t = time.time()\n",
    "myfun(10)\n",
    "myfun1(10)\n",
    "print time.time()-t\n"
   ]
  },
  {
   "cell_type": "code",
   "execution_count": 9,
   "metadata": {},
   "outputs": [
    {
     "name": "stdout",
     "output_type": "stream",
     "text": [
      "0\n",
      " myfun0\n",
      "\n",
      "myfun1\n",
      "11\n",
      "\n",
      "myfunmyfun1\n",
      "\n",
      "22\n",
      "\n",
      "myfunmyfun1\n",
      "\n",
      "33\n",
      "\n",
      "myfunmyfun1\n",
      "\n",
      "4\n",
      "myfun4\n",
      "\n",
      "myfun1\n",
      "55\n",
      "\n",
      "myfun1myfun\n",
      "\n",
      "66\n",
      "\n",
      "myfunmyfun1\n",
      "\n",
      "77\n",
      "\n",
      "myfun1myfun\n",
      "\n",
      "88\n",
      "\n",
      "myfunmyfun1\n",
      "\n",
      "99\n",
      "\n",
      "myfunmyfun1\n",
      "\n",
      "50.0950000286\n"
     ]
    }
   ],
   "source": [
    "t = time.time()\n",
    "t1 = threading.Thread(target=myfun, args=(10,))\n",
    "t2 = threading.Thread(target=myfun1, args=(10,))\n",
    "t1.start()\n",
    "t2.start()\n",
    "t2.join()\n",
    "print time.time()-t\n"
   ]
  },
  {
   "cell_type": "code",
   "execution_count": 10,
   "metadata": {},
   "outputs": [
    {
     "name": "stdout",
     "output_type": "stream",
     "text": [
      "['_Thread__block', '_Thread__bootstrap', '_Thread__bootstrap_inner', '_Thread__daemonic', '_Thread__delete', '_Thread__exc_clear', '_Thread__exc_info', '_Thread__ident', '_Thread__initialized', '_Thread__name', '_Thread__started', '_Thread__stderr', '_Thread__stop', '_Thread__stopped', '_Verbose__verbose', '__class__', '__delattr__', '__dict__', '__doc__', '__format__', '__getattribute__', '__hash__', '__init__', '__module__', '__new__', '__reduce__', '__reduce_ex__', '__repr__', '__setattr__', '__sizeof__', '__str__', '__subclasshook__', '__weakref__', '_block', '_note', '_reset_internal_locks', '_set_daemon', '_set_ident', 'daemon', 'getName', 'ident', 'isAlive', 'isDaemon', 'is_alive', 'join', 'name', 'run', 'setDaemon', 'setName', 'start']\n"
     ]
    }
   ],
   "source": [
    "print dir(t1)"
   ]
  },
  {
   "cell_type": "code",
   "execution_count": 11,
   "metadata": {},
   "outputs": [
    {
     "data": {
      "text/plain": [
       "'Thread-10'"
      ]
     },
     "execution_count": 11,
     "metadata": {},
     "output_type": "execute_result"
    }
   ],
   "source": [
    "t1.getName()"
   ]
  },
  {
   "cell_type": "code",
   "execution_count": 12,
   "metadata": {},
   "outputs": [],
   "source": [
    "t1.setName(\"mythead\")"
   ]
  },
  {
   "cell_type": "code",
   "execution_count": 14,
   "metadata": {},
   "outputs": [
    {
     "data": {
      "text/plain": [
       "'mythead'"
      ]
     },
     "execution_count": 14,
     "metadata": {},
     "output_type": "execute_result"
    }
   ],
   "source": [
    "t1.getName()"
   ]
  },
  {
   "cell_type": "code",
   "execution_count": 15,
   "metadata": {},
   "outputs": [
    {
     "data": {
      "text/plain": [
       "False"
      ]
     },
     "execution_count": 15,
     "metadata": {},
     "output_type": "execute_result"
    }
   ],
   "source": [
    "t1.isAlive()"
   ]
  },
  {
   "cell_type": "code",
   "execution_count": 16,
   "metadata": {},
   "outputs": [
    {
     "data": {
      "text/plain": [
       "False"
      ]
     },
     "execution_count": 16,
     "metadata": {},
     "output_type": "execute_result"
    }
   ],
   "source": [
    "t1.isDaemon()"
   ]
  },
  {
   "cell_type": "code",
   "execution_count": 22,
   "metadata": {},
   "outputs": [],
   "source": [
    "t3 = threading.Thread(target=myfun, args=(5,))"
   ]
  },
  {
   "cell_type": "code",
   "execution_count": 23,
   "metadata": {},
   "outputs": [],
   "source": [
    "t3.setDaemon('x')"
   ]
  },
  {
   "cell_type": "code",
   "execution_count": 25,
   "metadata": {},
   "outputs": [
    {
     "data": {
      "text/plain": [
       "'x'"
      ]
     },
     "execution_count": 25,
     "metadata": {},
     "output_type": "execute_result"
    }
   ],
   "source": [
    "t3.isDaemon()"
   ]
  },
  {
   "cell_type": "code",
   "execution_count": 26,
   "metadata": {},
   "outputs": [
    {
     "name": "stdout",
     "output_type": "stream",
     "text": [
      "['BoundedSemaphore', 'Condition', 'Event', 'Lock', 'RLock', 'Semaphore', 'Thread', 'ThreadError', 'Timer', '_BoundedSemaphore', '_Condition', '_DummyThread', '_Event', '_MainThread', '_RLock', '_Semaphore', '_Timer', '_VERBOSE', '_Verbose', '__all__', '__builtins__', '__doc__', '__file__', '__name__', '__package__', '_active', '_active_limbo_lock', '_after_fork', '_allocate_lock', '_count', '_counter', '_deque', '_enumerate', '_format_exc', '_get_ident', '_limbo', '_newname', '_pickSomeNonDaemonThread', '_profile_hook', '_shutdown', '_sleep', '_start_new_thread', '_sys', '_test', '_time', '_trace_hook', 'activeCount', 'active_count', 'currentThread', 'current_thread', 'enumerate', 'local', 'setprofile', 'settrace', 'stack_size', 'warnings']\n"
     ]
    }
   ],
   "source": [
    "print dir(threading)"
   ]
  },
  {
   "cell_type": "code",
   "execution_count": 27,
   "metadata": {},
   "outputs": [
    {
     "data": {
      "text/plain": [
       "5"
      ]
     },
     "execution_count": 27,
     "metadata": {},
     "output_type": "execute_result"
    }
   ],
   "source": [
    "threading.activeCount()"
   ]
  },
  {
   "cell_type": "code",
   "execution_count": 30,
   "metadata": {},
   "outputs": [
    {
     "data": {
      "text/plain": [
       "[<ParentPollerWindows(Thread-3, started daemon 1092)>,\n",
       " <Heartbeat(Thread-5, started daemon 1992)>,\n",
       " <Thread(Thread-4, started daemon 4780)>,\n",
       " <HistorySavingThread(IPythonHistorySavingThread, started 5256)>,\n",
       " <_MainThread(MainThread, started 3480)>]"
      ]
     },
     "execution_count": 30,
     "metadata": {},
     "output_type": "execute_result"
    }
   ],
   "source": [
    "threading.enumerate()"
   ]
  },
  {
   "cell_type": "code",
   "execution_count": 33,
   "metadata": {},
   "outputs": [
    {
     "data": {
      "text/plain": [
       "threading.Thread"
      ]
     },
     "execution_count": 33,
     "metadata": {},
     "output_type": "execute_result"
    }
   ],
   "source": [
    "threading.Thread"
   ]
  },
  {
   "cell_type": "code",
   "execution_count": null,
   "metadata": {},
   "outputs": [],
   "source": []
  }
 ],
 "metadata": {
  "kernelspec": {
   "display_name": "Python 2",
   "language": "python",
   "name": "python2"
  },
  "language_info": {
   "codemirror_mode": {
    "name": "ipython",
    "version": 2
   },
   "file_extension": ".py",
   "mimetype": "text/x-python",
   "name": "python",
   "nbconvert_exporter": "python",
   "pygments_lexer": "ipython2",
   "version": "2.7.13"
  }
 },
 "nbformat": 4,
 "nbformat_minor": 2
}
