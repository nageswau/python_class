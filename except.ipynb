{
 "cells": [
  {
   "cell_type": "code",
   "execution_count": 2,
   "metadata": {},
   "outputs": [
    {
     "name": "stdout",
     "output_type": "stream",
     "text": [
      "enter the value a 5.5\n",
      "enter the value b 6\n",
      "I am in exception block\n"
     ]
    }
   ],
   "source": [
    "try:\n",
    "    a = raw_input(\"enter the value a \")\n",
    "    b = raw_input(\"enter the value b \")\n",
    "    a = int(a)\n",
    "    b= int(b)\n",
    "except :\n",
    "    print \"I am in exception block\""
   ]
  },
  {
   "cell_type": "code",
   "execution_count": 7,
   "metadata": {},
   "outputs": [
    {
     "name": "stdout",
     "output_type": "stream",
     "text": [
      "enter the value a 5.5\n",
      "enter the value b 22\n",
      "invalid literal for int() with base 10: '5.5'\n",
      "not able to convert the string to interger\n",
      "I am succesfully completed\n"
     ]
    }
   ],
   "source": [
    "try:\n",
    "    a = raw_input(\"enter the value a \")\n",
    "    b = raw_input(\"enter the value b \")\n",
    "    a = int(a)\n",
    "    b= int(b)\n",
    "except ValueError as err:\n",
    "    print err\n",
    "    print \"not able to convert the string to interger\"\n",
    "#print int('5.5')\n",
    "print \"I am succesfully completed\""
   ]
  },
  {
   "cell_type": "code",
   "execution_count": 8,
   "metadata": {},
   "outputs": [
    {
     "name": "stdout",
     "output_type": "stream",
     "text": [
      "enter the value a 5.5\n",
      "enter the value b 20\n",
      "I am succesfully completed\n"
     ]
    }
   ],
   "source": [
    "a = raw_input(\"enter the value a \")\n",
    "b = raw_input(\"enter the value b \")\n",
    "try:\n",
    "    a = float(a)\n",
    "    b= float(b)\n",
    "    c = a/b\n",
    "except ZeroDivisionError as err:\n",
    "    print err\n",
    "    print \"not able to convert the string to interger\"\n",
    "#print int('5.5')\n",
    "print \"I am succesfully completed\""
   ]
  },
  {
   "cell_type": "code",
   "execution_count": 14,
   "metadata": {},
   "outputs": [
    {
     "name": "stdout",
     "output_type": "stream",
     "text": [
      "enter the value a 5.5\n",
      "enter the value b 2\n",
      "unsupported operand type(s) for +: 'int' and 'str'\n",
      "I am succesfully completed\n"
     ]
    }
   ],
   "source": [
    "a = raw_input(\"enter the value a \")\n",
    "b = raw_input(\"enter the value b \")\n",
    "try:\n",
    "    a = float(a)\n",
    "    b= float(b)\n",
    "    c = a/b\n",
    "    d = 5+'5'\n",
    "except ValueError as error:\n",
    "    print error\n",
    "    print \"not able to convert the string to float\"\n",
    "except ZeroDivisionError as err:\n",
    "    print err\n",
    "    print \"division with zero is not possible\"\n",
    "except Exception as err:\n",
    "    print err\n",
    "#print int('5.5')\n",
    "print \"I am succesfully completed\""
   ]
  },
  {
   "cell_type": "code",
   "execution_count": 2,
   "metadata": {},
   "outputs": [
    {
     "name": "stdout",
     "output_type": "stream",
     "text": [
      "enter the value a 40\n",
      "enter the value b 15\n",
      "No exception has occured\n",
      "I am succesfully completed\n"
     ]
    }
   ],
   "source": [
    "a = raw_input(\"enter the value a \")\n",
    "b = raw_input(\"enter the value b \")\n",
    "try:\n",
    "    a = float(a)\n",
    "    b= float(b)\n",
    "    c = a/b\n",
    "except ValueError as error:\n",
    "    print error\n",
    "    print \"not able to convert the string to float\"\n",
    "except ZeroDivisionError as err:\n",
    "    print err\n",
    "    print \"division with zero is not possible\"\n",
    "except Exception as err:\n",
    "    print err\n",
    "else:\n",
    "    print \"No exception has occured\"\n",
    "#print int('5.5')\n",
    "print \"I am succesfully completed\""
   ]
  },
  {
   "cell_type": "code",
   "execution_count": 3,
   "metadata": {},
   "outputs": [
    {
     "name": "stdout",
     "output_type": "stream",
     "text": [
      "enter the value a 40\n",
      "enter the value b 0\n",
      "float division by zero\n",
      "division with zero is not possible\n",
      "I am succesfully completed\n"
     ]
    }
   ],
   "source": [
    "a = raw_input(\"enter the value a \")\n",
    "b = raw_input(\"enter the value b \")\n",
    "try:\n",
    "    a = float(a)\n",
    "    b= float(b)\n",
    "    c = a/b\n",
    "except ValueError as error:\n",
    "    print error\n",
    "    print \"not able to convert the string to float\"\n",
    "except ZeroDivisionError as err:\n",
    "    print err\n",
    "    print \"division with zero is not possible\"\n",
    "except Exception as err:\n",
    "    print err\n",
    "else:\n",
    "    print \"No exception has occured\"\n",
    "#print int('5.5')\n",
    "print \"I am succesfully completed\""
   ]
  },
  {
   "cell_type": "code",
   "execution_count": null,
   "metadata": {
    "collapsed": true
   },
   "outputs": [],
   "source": [
    "a = raw_input(\"enter the value a \")\n",
    "b = raw_input(\"enter the value b \")\n",
    "try:\n",
    "    a = float(a)\n",
    "    b= float(b)\n",
    "    c = a/b\n",
    "except ValueError as error:\n",
    "    a= raw_input(\"please enter valid a value\")\n",
    "    b= raw_input(\"please enter valid b value\")\n",
    "    a = float(a)\n",
    "    b = float(b)\n",
    "    c = a/b\n",
    "except ZeroDivisionError as err:\n",
    "    print err\n",
    "    print \"division with zero is not possible\"\n",
    "except Exception as err:\n",
    "    print err\n",
    "else:\n",
    "    print \"No exception has occured\"\n",
    "#print int('5.5')\n",
    "print \"I am succesfully completed\"\n",
    "print a,b,c "
   ]
  },
  {
   "cell_type": "code",
   "execution_count": null,
   "metadata": {
    "collapsed": true
   },
   "outputs": [],
   "source": [
    "a = raw_input(\"enter the value a \")\n",
    "b = raw_input(\"enter the value b \")\n",
    "try:\n",
    "    a = float(a)\n",
    "    b= float(b)\n",
    "    c = a/b\n",
    "except ValueError as error:\n",
    "    a= raw_input(\"please enter valid a value\")\n",
    "    b= raw_input(\"please enter valid b value\")\n",
    "    a = float(a)\n",
    "    b = float(b)\n",
    "    c = a/b\n",
    "except ZeroDivisionError as err:\n",
    "    print err\n",
    "    print \"division with zero is not possible\"\n",
    "except Exception as err:\n",
    "    print err\n",
    "else:\n",
    "    print \"No exception has occured\"\n",
    "#print int('5.5')\n",
    "print \"I am succesfully completed\"\n",
    "print a,b,c "
   ]
  },
  {
   "cell_type": "code",
   "execution_count": null,
   "metadata": {
    "collapsed": true
   },
   "outputs": [],
   "source": []
  },
  {
   "cell_type": "code",
   "execution_count": null,
   "metadata": {
    "collapsed": true
   },
   "outputs": [],
   "source": []
  },
  {
   "cell_type": "code",
   "execution_count": null,
   "metadata": {
    "collapsed": true
   },
   "outputs": [],
   "source": [
    "a = raw_input(\"enter the value a \")\n",
    "b = raw_input(\"enter the value b \")\n",
    "try:\n",
    "    a = float(a)\n",
    "    b= float(b)\n",
    "    c = a/b\n",
    "except ValueError as error:\n",
    "    a= raw_input(\"please enter valid a value\")\n",
    "    b= raw_input(\"please enter valid b value\")\n",
    "    a = float(a)\n",
    "    b = float(b)\n",
    "    c = a/b\n",
    "except ZeroDivisionError as err:\n",
    "    print err\n",
    "    print \"division with zero is not possible\"\n",
    "except Exception as err:\n",
    "    print err\n",
    "else:\n",
    "    print \"No exception has occured\"\n",
    "#print int('5.5')\n",
    "print \"I am succesfully completed\"\n",
    "print a,b,c "
   ]
  },
  {
   "cell_type": "code",
   "execution_count": null,
   "metadata": {
    "collapsed": true
   },
   "outputs": [],
   "source": []
  }
 ],
 "metadata": {
  "kernelspec": {
   "display_name": "Python 2",
   "language": "python",
   "name": "python2"
  },
  "language_info": {
   "codemirror_mode": {
    "name": "ipython",
    "version": 2
   },
   "file_extension": ".py",
   "mimetype": "text/x-python",
   "name": "python",
   "nbconvert_exporter": "python",
   "pygments_lexer": "ipython2",
   "version": "2.7.13"
  }
 },
 "nbformat": 4,
 "nbformat_minor": 2
}
