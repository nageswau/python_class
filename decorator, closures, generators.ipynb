{
 "cells": [
  {
   "cell_type": "code",
   "execution_count": 5,
   "metadata": {},
   "outputs": [
    {
     "name": "stdout",
     "output_type": "stream",
     "text": [
      "<generator object myfun at 0x0221A058>\n"
     ]
    }
   ],
   "source": [
    "def myfun(a):\n",
    "    for x in a:\n",
    "        yield x\n",
    "a = myfun(range(10))\n",
    "print a"
   ]
  },
  {
   "cell_type": "code",
   "execution_count": 6,
   "metadata": {},
   "outputs": [
    {
     "name": "stdout",
     "output_type": "stream",
     "text": [
      "0\n",
      "1\n",
      "2\n"
     ]
    }
   ],
   "source": [
    "print a.next()\n",
    "print a.next()\n",
    "print a.next()"
   ]
  },
  {
   "cell_type": "code",
   "execution_count": 6,
   "metadata": {},
   "outputs": [
    {
     "name": "stdout",
     "output_type": "stream",
     "text": [
      "python class\n",
      "python class\n"
     ]
    }
   ],
   "source": [
    "def myfun():\n",
    "    return \"python class\"\n",
    "print myfun()\n",
    "print myfun()"
   ]
  },
  {
   "cell_type": "code",
   "execution_count": 8,
   "metadata": {},
   "outputs": [
    {
     "name": "stdout",
     "output_type": "stream",
     "text": [
      "0\n",
      "0\n"
     ]
    }
   ],
   "source": [
    "def myfun(a):\n",
    "    for x in a:\n",
    "        return x\n",
    "a = myfun(range(10))\n",
    "print a\n",
    "b = myfun(range(10))\n",
    "print b"
   ]
  },
  {
   "cell_type": "code",
   "execution_count": 8,
   "metadata": {},
   "outputs": [
    {
     "name": "stdout",
     "output_type": "stream",
     "text": [
      "<generator object mufun2 at 0x037B7F08>\n",
      "myfirst statement\n",
      "my secomd statement\n",
      "my third statement \n",
      "done\n"
     ]
    }
   ],
   "source": [
    "def mufun2():\n",
    "    a = \"myfirst statement\"\n",
    "    yield a\n",
    "    b = \"my secomd statement\"\n",
    "    yield b\n",
    "    c = \"my third statement \"\n",
    "    yield c\n",
    "\n",
    "a = mufun2()\n",
    "print a\n",
    "try:\n",
    "    print a.next()\n",
    "    print a.next()\n",
    "    print a.next()\n",
    "    print a.next()\n",
    "except:\n",
    "    print \"done\""
   ]
  },
  {
   "cell_type": "code",
   "execution_count": 14,
   "metadata": {},
   "outputs": [
    {
     "name": "stdout",
     "output_type": "stream",
     "text": [
      "<function myfun at 0x0374B2F0>\n",
      "Hello python\n"
     ]
    }
   ],
   "source": [
    "def myfun(name):\n",
    "    return \"Hello \"+name\n",
    "a = myfun\n",
    "print a\n",
    "print a(\"python\")"
   ]
  },
  {
   "cell_type": "code",
   "execution_count": 22,
   "metadata": {},
   "outputs": [
    {
     "name": "stdout",
     "output_type": "stream",
     "text": [
      "I am in outer\n",
      "<function inner at 0x037AC730>\n",
      "I am in inner\n",
      "Hello python#######\n"
     ]
    }
   ],
   "source": [
    "def outer(fun):\n",
    "    print \"I am in outer\"\n",
    "    def inner(name):\n",
    "        print \"I am in inner\"\n",
    "        return fun(name)+\"#######\"\n",
    "    return inner\n",
    "a =outer(myfun)\n",
    "print a\n",
    "print a(\"python\")\n",
    "\n",
    "        "
   ]
  },
  {
   "cell_type": "code",
   "execution_count": 24,
   "metadata": {},
   "outputs": [
    {
     "name": "stdout",
     "output_type": "stream",
     "text": [
      "I am in outer\n",
      "I am in inner\n",
      "Hello class#######\n"
     ]
    }
   ],
   "source": [
    "@outer\n",
    "def myfun1(name):\n",
    "    return \"Hello \"+name\n",
    "\n",
    "print myfun1(\"class\")"
   ]
  },
  {
   "cell_type": "code",
   "execution_count": 38,
   "metadata": {},
   "outputs": [
    {
     "name": "stdout",
     "output_type": "stream",
     "text": [
      "<__main__.Str1 instance at 0x037478A0>\n",
      "ID = 256\n",
      "ID = 257\n"
     ]
    }
   ],
   "source": [
    "class Str1():\n",
    "    def create_volume(self):\n",
    "        print self.sta(\"volume created with ID = 256\")\n",
    "        #rint \"volume created with ID = 256\"\n",
    "    @classmethod\n",
    "    def clss(cls):\n",
    "        cls.a = 10\n",
    "        #print st\n",
    "        print cls.sta(\"volume created with ID = 257\")\n",
    "\n",
    "    @staticmethod\n",
    "    def sta(st):\n",
    "        #print \"python class\"\n",
    "        return st[st.find('ID'):]\n",
    "    def addition(self):\n",
    "        return self.a+self.b\n",
    "a = Str1()\n",
    "print a\n",
    "a.create_volume()\n",
    "a.clss()\n"
   ]
  },
  {
   "cell_type": "code",
   "execution_count": 6,
   "metadata": {},
   "outputs": [
    {
     "name": "stdout",
     "output_type": "stream",
     "text": [
      "3\n"
     ]
    }
   ],
   "source": [
    "a = \"ID = 256\"\n",
    "print a.index('=')"
   ]
  },
  {
   "cell_type": "code",
   "execution_count": null,
   "metadata": {
    "collapsed": true
   },
   "outputs": [],
   "source": []
  }
 ],
 "metadata": {
  "kernelspec": {
   "display_name": "Python 2",
   "language": "python",
   "name": "python2"
  },
  "language_info": {
   "codemirror_mode": {
    "name": "ipython",
    "version": 2
   },
   "file_extension": ".py",
   "mimetype": "text/x-python",
   "name": "python",
   "nbconvert_exporter": "python",
   "pygments_lexer": "ipython2",
   "version": "2.7.13"
  }
 },
 "nbformat": 4,
 "nbformat_minor": 2
}
